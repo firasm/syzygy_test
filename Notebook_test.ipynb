{
  "cells": [
    {
      "cell_type": "markdown",
      "source": [
        "## Syzygy Test\n",
        "\n",
        "- To run the jupyter notebook cell below, click the cell and on your keyboard, press SHIFT and ENTER\n",
        "- You should see two messages printed to the console"
      ],
      "metadata": {
        "nteract": {
          "transient": {
            "deleting": false
          }
        }
      }
    },
    {
      "cell_type": "code",
      "source": [
        "print('Hello World')\n",
        "print('Your syzygy setup is working correctly - you are all set!')"
      ],
      "outputs": [
        {
          "output_type": "stream",
          "name": "stdout",
          "text": [
            "Hello World\n",
            "Your syzygy setup is working correctly - you are all set!\n"
          ]
        }
      ],
      "execution_count": 4,
      "metadata": {
        "collapsed": false,
        "jupyter": {
          "source_hidden": false,
          "outputs_hidden": false
        },
        "nteract": {
          "transient": {
            "deleting": false
          }
        },
        "execution": {
          "shell.execute_reply": "2020-03-11T18:37:40.476Z",
          "iopub.status.busy": "2020-03-11T18:37:40.465Z",
          "iopub.execute_input": "2020-03-11T18:37:40.467Z",
          "iopub.status.idle": "2020-03-11T18:37:40.472Z"
        }
      }
    }
  ],
  "metadata": {
    "kernel_info": {
      "name": "python3"
    },
    "language_info": {
      "name": "python",
      "version": "3.7.6",
      "mimetype": "text/x-python",
      "codemirror_mode": {
        "name": "ipython",
        "version": 3
      },
      "pygments_lexer": "ipython3",
      "nbconvert_exporter": "python",
      "file_extension": ".py"
    },
    "kernelspec": {
      "argv": [
        "/usr/local/opt/python/bin/python3.7",
        "-m",
        "ipykernel_launcher",
        "-f",
        "{connection_file}"
      ],
      "display_name": "Python 3",
      "language": "python",
      "name": "python3"
    },
    "nteract": {
      "version": "0.22.0"
    }
  },
  "nbformat": 4,
  "nbformat_minor": 0
}